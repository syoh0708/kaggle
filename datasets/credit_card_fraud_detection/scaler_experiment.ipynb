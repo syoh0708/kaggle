{
 "cells": [
  {
   "cell_type": "code",
   "execution_count": null,
   "id": "4ffce5bc-964b-4e1a-a7af-d02f94db9dff",
   "metadata": {},
   "outputs": [],
   "source": [
    "import pandas as pd\n",
    "import warnings\n",
    "\n",
    "warnings.filterwarnings('ignore')\n",
    "\n",
    "card_df = pd.read_csv('./creditcard.csv')"
   ]
  },
  {
   "cell_type": "code",
   "execution_count": null,
   "outputs": [],
   "source": [
    "from commons import Dataset, Model, metrics\n",
    "from sklearn.linear_model import LogisticRegression\n",
    "from sklearn.preprocessing import StandardScaler, MinMaxScaler\n",
    "from lightgbm import LGBMClassifier\n",
    "\n",
    "standard_scaler = StandardScaler()\n",
    "minmax_scaler = MinMaxScaler()\n",
    "scalers = {\n",
    "    'standard scaler': standard_scaler,\n",
    "    'minmax scaler': minmax_scaler\n",
    "}\n",
    "classifiers = [\n",
    "    LGBMClassifier(n_estimators=1000, num_leaves=64, n_jobs=-1, boost_from_average=False),\n",
    "    LogisticRegression(max_iter=1000)\n",
    "]\n",
    "\n",
    "for name, scaler in scalers.items():\n",
    "    dataset = Dataset(card_df, scaler=scaler)\n",
    "    dataset.scale_and_split()\n",
    "    for clf in classifiers:\n",
    "        model = Model(clf, dataset)\n",
    "        model.eval()\n",
    "        model.log_metric(metrics, experiment_name='scaler experiment')"
   ],
   "metadata": {
    "collapsed": false
   },
   "id": "d7c83be69733ec57"
  }
 ],
 "metadata": {
  "kernelspec": {
   "display_name": "Python 3 (ipykernel)",
   "language": "python",
   "name": "python3"
  },
  "language_info": {
   "codemirror_mode": {
    "name": "ipython",
    "version": 3
   },
   "file_extension": ".py",
   "mimetype": "text/x-python",
   "name": "python",
   "nbconvert_exporter": "python",
   "pygments_lexer": "ipython3",
   "version": "3.9.6"
  }
 },
 "nbformat": 4,
 "nbformat_minor": 5
}
