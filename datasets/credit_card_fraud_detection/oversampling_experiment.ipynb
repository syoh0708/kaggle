{
 "cells": [
  {
   "cell_type": "code",
   "execution_count": null,
   "id": "4ffce5bc-964b-4e1a-a7af-d02f94db9dff",
   "metadata": {},
   "outputs": [],
   "source": [
    "import pandas as pd\n",
    "import warnings\n",
    "\n",
    "warnings.filterwarnings('ignore')\n",
    "\n",
    "card_df = pd.read_csv('./creditcard.csv')\n",
    "card_df.drop('Time', axis=1, inplace=True)"
   ]
  },
  {
   "cell_type": "code",
   "execution_count": null,
   "outputs": [],
   "source": [
    "from commons import Dataset, Model, ModelEvaluator, LogParameter, metrics\n",
    "from lightgbm import LGBMClassifier\n",
    "\n",
    "lgbm_clf = LGBMClassifier(n_estimators=1000, num_leaves=64, n_jobs=-1, boost_from_average=False)\n",
    "dataset = Dataset(card_df)\n",
    "model = Model(lgbm_clf)\n",
    "evaluator = ModelEvaluator(model, dataset)\n",
    "oversampling_rates = [0.01, 0.1, 0.2, 1]\n",
    "for rate in oversampling_rates:\n",
    "    log_params = LogParameter(tag=str(rate), experiment_name='oversampling')\n",
    "    evaluator.cross_val_eval(metrics, oversampling_strategy=rate, log_params=log_params)"
   ],
   "metadata": {
    "collapsed": false
   },
   "id": "5265b8ba29a3fd43"
  }
 ],
 "metadata": {
  "kernelspec": {
   "display_name": "Python 3 (ipykernel)",
   "language": "python",
   "name": "python3"
  },
  "language_info": {
   "codemirror_mode": {
    "name": "ipython",
    "version": 3
   },
   "file_extension": ".py",
   "mimetype": "text/x-python",
   "name": "python",
   "nbconvert_exporter": "python",
   "pygments_lexer": "ipython3",
   "version": "3.9.6"
  }
 },
 "nbformat": 4,
 "nbformat_minor": 5
}
