{
 "cells": [
  {
   "cell_type": "code",
   "execution_count": null,
   "id": "initial_id",
   "metadata": {
    "collapsed": true
   },
   "outputs": [],
   "source": [
    "import pandas as pd\n",
    "import warnings\n",
    "\n",
    "warnings.filterwarnings('ignore')\n",
    "\n",
    "card_df = pd.read_csv('creditcard.csv')\n",
    "card_df.drop('Time', axis=1, inplace=True)"
   ]
  },
  {
   "cell_type": "code",
   "execution_count": null,
   "outputs": [],
   "source": [
    "import numpy as np\n",
    "from pandas import DataFrame, Index\n",
    "\n",
    "def get_outlier(df: DataFrame = None, column=None, weight: float = 1.5) -> Index:\n",
    "    fraud = df[df['Class'] == 1][column]\n",
    "    quantile_25 = np.percentile(fraud.values, 25)\n",
    "    quantile_75 = np.percentile(fraud.values, 75)\n",
    "\n",
    "    iqr = quantile_75 - quantile_25\n",
    "    iqr_weight = iqr * weight\n",
    "\n",
    "    lowest_val = quantile_25 - iqr_weight\n",
    "    highest_val = quantile_75 + iqr_weight\n",
    "\n",
    "    outlier_index = fraud[(fraud < lowest_val) | (fraud > highest_val)].index\n",
    "\n",
    "    return outlier_index"
   ],
   "metadata": {
    "collapsed": false
   },
   "id": "2b309e5b767b4e01"
  },
  {
   "cell_type": "code",
   "execution_count": null,
   "outputs": [],
   "source": [
    "outlier_index = get_outlier(df=card_df, column='V14', weight=1.5)\n",
    "outlier_index"
   ],
   "metadata": {
    "collapsed": false
   },
   "id": "2b2124ceb2c827ac"
  },
  {
   "cell_type": "code",
   "execution_count": null,
   "outputs": [],
   "source": [
    "card_df.iloc[outlier_index, :]"
   ],
   "metadata": {
    "collapsed": false
   },
   "id": "2aba2b0719be2d4f"
  },
  {
   "cell_type": "code",
   "execution_count": null,
   "outputs": [],
   "source": [
    "from commons import Dataset, Model, ModelEvaluator, LogParameter, metrics\n",
    "from lightgbm import LGBMClassifier\n",
    "\n",
    "cols = card_df.columns.tolist()\n",
    "cols.append(None)\n",
    "\n",
    "for col in card_df.columns:\n",
    "    if col == 'Class':\n",
    "        continue\n",
    "\n",
    "    outlier_index = get_outlier(df=card_df, column=col, weight=1.5)\n",
    "    df = card_df.copy()\n",
    "    df.drop(outlier_index, axis=0, inplace=True)\n",
    "    df = df.reset_index(drop=True)\n",
    "    dataset = Dataset(df)\n",
    "    model = Model(LGBMClassifier(n_estimators=1000, num_leaves=64, n_jobs=-1, boost_from_average=False))\n",
    "    evaluator = ModelEvaluator(model, dataset)\n",
    "    log_params = LogParameter(tag=col, experiment_name='outlier removal')\n",
    "    evaluator.cross_val_eval(metrics, log_params=log_params)"
   ],
   "metadata": {
    "collapsed": false
   },
   "id": "e2b801a78daea02a"
  }
 ],
 "metadata": {
  "kernelspec": {
   "display_name": "Python 3",
   "language": "python",
   "name": "python3"
  },
  "language_info": {
   "codemirror_mode": {
    "name": "ipython",
    "version": 2
   },
   "file_extension": ".py",
   "mimetype": "text/x-python",
   "name": "python",
   "nbconvert_exporter": "python",
   "pygments_lexer": "ipython2",
   "version": "2.7.6"
  }
 },
 "nbformat": 4,
 "nbformat_minor": 5
}
